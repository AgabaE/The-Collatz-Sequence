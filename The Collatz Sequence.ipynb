{
 "cells": [
  {
   "cell_type": "markdown",
   "metadata": {},
   "source": [
    "Collatz Sequence"
   ]
  },
  {
   "cell_type": "code",
   "execution_count": 2,
   "metadata": {
    "scrolled": true
   },
   "outputs": [
    {
     "name": "stdout",
     "output_type": "stream",
     "text": [
      "This is the Collatz Sequence\n",
      "Enter a number: 5\n",
      "5\n",
      "16\n",
      "8\n",
      "4\n",
      "2\n",
      "1\n"
     ]
    }
   ],
   "source": [
    "print(\"This is the Collatz Sequence\")\n",
    "\n",
    "def collatz(number):\n",
    "    if number % 2 == 0:\n",
    "        return(number//2)\n",
    "    \n",
    "    elif number % 2 == 1:\n",
    "        return(3 * number + 1)\n",
    "\n",
    "n=int(input(\"Enter a number: \"))\n",
    "print(n)\n",
    "\n",
    "while n != 1:\n",
    "    n=collatz(n)\n",
    "    print(n)\n",
    "        "
   ]
  }
 ],
 "metadata": {
  "kernelspec": {
   "display_name": "Python 3",
   "language": "python",
   "name": "python3"
  },
  "language_info": {
   "codemirror_mode": {
    "name": "ipython",
    "version": 3
   },
   "file_extension": ".py",
   "mimetype": "text/x-python",
   "name": "python",
   "nbconvert_exporter": "python",
   "pygments_lexer": "ipython3",
   "version": "3.7.3"
  }
 },
 "nbformat": 4,
 "nbformat_minor": 2
}
